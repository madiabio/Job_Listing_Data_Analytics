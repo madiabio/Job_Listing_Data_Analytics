{
 "cells": [
  {
   "cell_type": "markdown",
   "metadata": {},
   "source": [
    "# PART 4) CASE STUDIES\n",
    "___\n",
    "\n",
    "## 1) First Year Computer Science Skills Recommendation\n",
    "To promote the exploration into various sub-sectors, a broad set of skills will be recommended for Matthew to investigate his true interests. This is in line with the job market favouring passion.\n",
    "\n",
    "From the LDA interactive graph, the most important skill terms in IT were soft skills. Some of the most important soft skills to improve are teamwork, leadership (if wanting managerial responsibilities), analytical and documentational. Other terms such as passion, learning and growing also came up a lot indicating that a deep drive to enjoy and learn the content is needed. Soft skills were ranked second on th 'Average Occurrences with Number of Skills per Category Heatmap', indicating that learning one soft skill may expose Matthew to a larger amount of job opportunities than learning a lower ranked skill, such one from the web development category.\n",
    "\n",
    "Programming languages is another subject that ranked highly in both the LDA interactive graph and the 'Number of Skills per Category with Occurrences Heatmap', however this one is more specific on what type of work Mathew will want to specialise in. Programming languages such as Java, JavaScript, C and Python were the most common and give a broad baseline on what could be learned. Java and Javascript were the only two programming languages in the top 10 skills for IT, suggesting they may be a good starting point.\n",
    "\n",
    "Programming frameworks were common in the LDA visualisation, and are defined as a set of tools that go along with the base knowledge of a language. The most common ones found were web development based such as spring for java, angular for typescript and react for javascript. They ranked fourth in the 'Number of Skills per Category with Occurrences Heatmap', but 7th on the 'Average Occurrences with Number of Skills per Category Heatmap' indicating they may be a lower priority set of skills to develop in an early career.\n",
    "\n",
    "Programming often uses extra programs and services to help with the development process. Some of these include git, Jenkins, docker, VMware and mulesoft. Terms such as API also came up frequently indicating that a general knowledge in implementing and interfacing with them is important knowledge to have. Some of these are categorised as 'Other Technologies' which rank 5th in the 'Number of Skills per Category with Occurrences Heatmap' but have a relatively low number of total occurrences, and rank last in the 'Average Occurrences with Number of Skills per Category Heatmap'. These skills though can sometimes be developed in parallell with other higher value skills and thus should not be neglected.\n",
    "\n",
    "The final major subject prominent on the LDA visualisation is knowledge in IT infrastructure and overall implementations. Skills related to interfacing with servers especially linux skills were high on the list. Other terms such as switch, cisco and vpn also came up frequently. Cloud computing, aws and azure came up as well indicating that knowledge in how to operate and use cloud technologies is also recommended. The importance of cloud technologies is supported by its #1 rank in the 'Average Occurrences with Number of Skills per Category Heatmap', meaning learning some single cloud technology skill could expose Matthew to a relatively large number of listings.\n",
    "\n",
    "We believe that as Mathew continues his journey through his Computer Science Degree he will get a further understanding on what he is passionate for. For now, we recommend him learning some broad knowledge on the topics described above and going deeper into any topics and skills he is interested in. Computer science is an ever-evolving sector, it is important to know that continual growth and learning is needed in order to not get left behind. This is why by far the most important part of Computer Science is to be passionate of this sector and its subjects contained.\n",
    "\n",
    "## 2) Employee Job Recommendation\n",
    "The first step to this problem is to limit the amount of data that is to be recommended. This can be quite simply done by a set of hard outlines which have the effect of only recommending jobs in the correct job sector (for example IT) and only jobs the employee meets the minimum requirements for (ie degrees, training, or certificates).\n",
    "\n",
    "Assuming that Talent Finders has previous information on what job and preferences users have chosen and what their credentials were at the time a hybrid recommendation system could be built. Hybrid recommendation programs such as LightFM are extremely powerful as they not only combine previous users preferences but also content based data which in this case is each jobs attributes. This allows the system to recommend jobs that are both similar in content and requirement to what the user wants.\n",
    "\n",
    "This recommendation system could be implemented in two main ways. The first would be to ask an initial set of questions as well as any previous employment history. This would have the effect of allowing the recommendation system to identify the new user as having similar recommendations as one of the trained set of users. A slightly different implementation would be initially recommending a general set of different jobs and have the user select what they are most interested in. \n",
    "\n",
    "Both implementations have their trade-offs, the first is initially more time consuming however once it is completed gives more specific responses. The second is quicker to get a user to use the service but has the trade-off of giving jobs who aren’t applicable. By making the assumption that people who are trying to find jobs are serious about the subject and want to spend the time to find good recommendations, the first method would be the best approach.\n",
    "\n",
    "If TalentFinders does not have previous information about users, hybrid recommendation cannot be used. It is well known that hybrid recommendation is essentially unusable for a cold start. In this case, a Content Based recommendation system could be implemented as an intermediate step. This approach simply recommends jobs that closely align with what an individual user's preferences are. The downside of this approach is that two jobs can have similar requirements but be completely different in scope and content. \n",
    "\n",
    "If this approach was used, once TalentFinders has a large enough user base with user preferences and history data, a hybrid recommendation system as described above could be implemented. The upside of this approach is that it is possible to start with no user data, and the model gets better over time. It is important that the hybrid recommendation is only implemented once enough users have been collected, otherwise certain 'niche' users may not have enough data around their preferences and be recommended completely irrelevant data.\n"
   ]
  }
 ],
 "metadata": {
  "language_info": {
   "name": "python"
  }
 },
 "nbformat": 4,
 "nbformat_minor": 2
}
